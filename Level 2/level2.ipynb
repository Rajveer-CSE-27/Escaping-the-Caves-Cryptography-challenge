{
 "cells": [
  {
   "cell_type": "code",
   "execution_count": 1,
   "id": "1d161e5a-4466-4e4a-b381-5482f9adb089",
   "metadata": {},
   "outputs": [],
   "source": [
    "text = 'TR XYCB MH AFC MUVY EOHPTCS, AFCSS TE QCSI NTYIMS TNA AFCSC. EMRBH XAA VAFR MIUCQPUH \"LMRL_CCETOT\" FN HM AKUXAHK. OTA WANA OTXT FFU EISCWNAF HME BFU MCVA UGTOTRE. BM HYLF IFU UVTY ANE HBSEI QYOQM OUVSF AM EAFTE PYHYS XNSKE IFUSC.'"
   ]
  },
  {
   "cell_type": "code",
   "execution_count": 2,
   "id": "0a81b191-e252-486c-97e9-1b158b16fc8a",
   "metadata": {},
   "outputs": [],
   "source": [
    "key = ['S','E','C','U','R','I','T','Y']"
   ]
  },
  {
   "cell_type": "code",
   "execution_count": 3,
   "id": "435e495a-100f-4d8f-ba52-ad042fadaaf4",
   "metadata": {},
   "outputs": [],
   "source": [
    "cleaned = text.replace(\" \",\"\")\n",
    "cleaned = cleaned.replace(\",\",\"\")\n",
    "cleaned = cleaned.replace(\".\",\"\")\n",
    "cleaned = cleaned.replace('\"','')\n",
    "cleaned = cleaned.replace(\"_\",\"\")"
   ]
  },
  {
   "cell_type": "code",
   "execution_count": 4,
   "id": "54a654f0-37ef-4fe0-a606-77cf23190514",
   "metadata": {},
   "outputs": [
    {
     "data": {
      "text/plain": [
       "['TR',\n",
       " 'XY',\n",
       " 'CB',\n",
       " 'MH',\n",
       " 'AF',\n",
       " 'CM',\n",
       " 'UV',\n",
       " 'YE',\n",
       " 'OH',\n",
       " 'PT',\n",
       " 'CS',\n",
       " 'AF',\n",
       " 'CS',\n",
       " 'ST',\n",
       " 'EQ',\n",
       " 'CS',\n",
       " 'IN',\n",
       " 'TY',\n",
       " 'IM',\n",
       " 'ST',\n",
       " 'NA',\n",
       " 'AF',\n",
       " 'CS',\n",
       " 'CE',\n",
       " 'MR',\n",
       " 'BH',\n",
       " 'XA',\n",
       " 'AV',\n",
       " 'AF',\n",
       " 'RM',\n",
       " 'IU',\n",
       " 'CQ',\n",
       " 'PU',\n",
       " 'HL',\n",
       " 'MR',\n",
       " 'LC',\n",
       " 'CE',\n",
       " 'TO',\n",
       " 'TF',\n",
       " 'NH',\n",
       " 'MA',\n",
       " 'KU',\n",
       " 'XA',\n",
       " 'HK',\n",
       " 'OT',\n",
       " 'AW',\n",
       " 'AN',\n",
       " 'AO',\n",
       " 'TX',\n",
       " 'TF',\n",
       " 'FU',\n",
       " 'EI',\n",
       " 'SC',\n",
       " 'WN',\n",
       " 'AF',\n",
       " 'HM',\n",
       " 'EB',\n",
       " 'FU',\n",
       " 'MC',\n",
       " 'VA',\n",
       " 'UG',\n",
       " 'TO',\n",
       " 'TR',\n",
       " 'EB',\n",
       " 'MH',\n",
       " 'YL',\n",
       " 'FI',\n",
       " 'FU',\n",
       " 'UV',\n",
       " 'TY',\n",
       " 'AN',\n",
       " 'EH',\n",
       " 'BS',\n",
       " 'EI',\n",
       " 'QY',\n",
       " 'OQ',\n",
       " 'MO',\n",
       " 'UV',\n",
       " 'SF',\n",
       " 'AM',\n",
       " 'EA',\n",
       " 'FT',\n",
       " 'EP',\n",
       " 'YH',\n",
       " 'YS',\n",
       " 'XN',\n",
       " 'SK',\n",
       " 'EI',\n",
       " 'FU',\n",
       " 'SC']"
      ]
     },
     "execution_count": 4,
     "metadata": {},
     "output_type": "execute_result"
    }
   ],
   "source": [
    "cleaned = [(cleaned[i:i+2]) for i in range(0, len(cleaned), 2)]\n",
    "cleaned"
   ]
  },
  {
   "cell_type": "code",
   "execution_count": 7,
   "id": "03f647cd-7f58-4e18-9ef2-251c963939e7",
   "metadata": {},
   "outputs": [],
   "source": [
    "alpha = 'abcdefghiklmnopqrstuvwxyz'.upper()"
   ]
  },
  {
   "cell_type": "code",
   "execution_count": 8,
   "id": "482acd56-bd2f-4bd4-a621-60e9724fd13f",
   "metadata": {},
   "outputs": [
    {
     "name": "stdout",
     "output_type": "stream",
     "text": [
      "key_matrix:  ['S', 'E', 'C', 'U', 'R', 'I', 'T', 'Y', 'A', 'B', 'D', 'F', 'G', 'H', 'K', 'L', 'M', 'N', 'O', 'P', 'Q', 'V', 'W', 'X', 'Z']\n",
      "text_pair:  ['TR', 'XY', 'CB', 'MH', 'AF', 'CM', 'UV', 'YE', 'OH', 'PT', 'CS', 'AF', 'CS', 'ST', 'EQ', 'CS', 'IN', 'TY', 'IM', 'ST', 'NA', 'AF', 'CS', 'CE', 'MR', 'BH', 'XA', 'AV', 'AF', 'RM', 'IU', 'CQ', 'PU', 'HL', 'MR', 'LC', 'CE', 'TO', 'TF', 'NH', 'MA', 'KU', 'XA', 'HK', 'OT', 'AW', 'AN', 'AO', 'TX', 'TF', 'FU', 'EI', 'SC', 'WN', 'AF', 'HM', 'EB', 'FU', 'MC', 'VA', 'UG', 'TO', 'TR', 'EB', 'MH', 'YL', 'FI', 'FU', 'UV', 'TY', 'AN', 'EH', 'BS', 'EI', 'QY', 'OQ', 'MO', 'UV', 'SF', 'AM', 'EA', 'FT', 'EP', 'YH', 'YS', 'XN', 'SK', 'EI', 'FU', 'SC']\n"
     ]
    }
   ],
   "source": [
    "for i in alpha:\n",
    "    if i not in key:\n",
    "        key.append(i)\n",
    "print(\"key_matrix: \",key)\n",
    "print(\"text_pair: \",cleaned)"
   ]
  },
  {
   "cell_type": "code",
   "execution_count": 9,
   "id": "9e730ab0-0d27-46a9-acc8-91065c91ceb9",
   "metadata": {},
   "outputs": [],
   "source": [
    "#algorithm\n",
    "def decrypt(key, pair):\n",
    "    idx1 = key.index(pair[0])\n",
    "    idx2 = key.index(pair[1])\n",
    "    decrypt_pair = ''\n",
    "    if idx1%5 == idx2%5 :\n",
    "        decrypt_pair += key[(idx1+20)%25] + key[(idx2+20)%25]\n",
    "    elif idx1//5 == idx2//5 :\n",
    "        decrypt_pair += key[(idx1//5)*5 + (idx1-1)%5] + key[(idx2//5)*5 + (idx2-1)%5]\n",
    "    else:\n",
    "        decrypt_pair += key[(idx1//5)*5 + idx2%5] + key[(idx2//5)*5 + idx1%5]\n",
    "    return decrypt_pair"
   ]
  },
  {
   "cell_type": "code",
   "execution_count": 11,
   "id": "43efadc8-8dea-4ffe-97d7-44dbe0949eb4",
   "metadata": {},
   "outputs": [
    {
     "data": {
      "text/plain": [
       "'BEWARYOFTHENEXTCHAMBERTHEREISVERYLITTLEIOYTHERESPEAKOUTXTHEPASSWORDOPENSESAMETOGOTHROUGHMAYXYOUHAVETHESTRENGTHFORTHENEXTCHAMBERTOFINDTHEEXITYOUFIRSTWILXLNEXEDTOUTTERMAGICWORDSTHERE'"
      ]
     },
     "execution_count": 11,
     "metadata": {},
     "output_type": "execute_result"
    }
   ],
   "source": [
    "decoded = ''\n",
    "for i in cleaned:\n",
    "    decoded += decrypt(key, i)\n",
    "\n",
    "decoded"
   ]
  },
  {
   "cell_type": "code",
   "execution_count": 12,
   "id": "f33f7a3b-b486-4f97-9441-f00a78688f24",
   "metadata": {},
   "outputs": [],
   "source": [
    "i = 0\n",
    "j = 0\n",
    "while j!=len(text):\n",
    "    if not text[j].isalpha():\n",
    "        decoded = decoded[:i]+text[j]+decoded[i:]\n",
    "    i+=1\n",
    "    j+=1"
   ]
  },
  {
   "cell_type": "code",
   "execution_count": 13,
   "id": "38789a76-3afd-4e75-8a6d-2edfeb94726a",
   "metadata": {},
   "outputs": [
    {
     "name": "stdout",
     "output_type": "stream",
     "text": [
      "decrypted_text:  BE WARY OF THE NEXT CHAMBER, THERE IS VERY LITTLE IOY THERE. SPEAK OUT XTHE PASSWORD \"OPEN_SESAME\" TO GO THROUGH. MAY XYOU HAVE THE STRENGTH FOR THE NEXT CHAMBER. TO FIND THE EXIT YOU FIRST WILXL NEXED TO UTTER MAGIC WORDS THERE.\n"
     ]
    }
   ],
   "source": [
    "print(\"decrypted_text: \",decoded)"
   ]
  },
  {
   "cell_type": "code",
   "execution_count": null,
   "id": "08f403da-4d68-420b-b2eb-bc60b9fedaab",
   "metadata": {},
   "outputs": [],
   "source": []
  }
 ],
 "metadata": {
  "kernelspec": {
   "display_name": "Python 3 (ipykernel)",
   "language": "python",
   "name": "python3"
  },
  "language_info": {
   "codemirror_mode": {
    "name": "ipython",
    "version": 3
   },
   "file_extension": ".py",
   "mimetype": "text/x-python",
   "name": "python",
   "nbconvert_exporter": "python",
   "pygments_lexer": "ipython3",
   "version": "3.10.12"
  }
 },
 "nbformat": 4,
 "nbformat_minor": 5
}
