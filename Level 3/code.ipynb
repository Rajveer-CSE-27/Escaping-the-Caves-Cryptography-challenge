{
 "cells": [
  {
   "cell_type": "code",
   "execution_count": 1,
   "id": "a17b626f-69c2-4334-8e76-e11aa4922ad0",
   "metadata": {},
   "outputs": [],
   "source": [
    "def power(x, n, p): \n",
    "    if (n == 0) : \n",
    "        return 1\n",
    "    elif (n % 2 == 0) : \n",
    "        return power((x * x) % p, n // 2, p) \n",
    "    else: \n",
    "        return (x * power((x * x) % p, (n - 1) / 2 % p, p))"
   ]
  },
  {
   "cell_type": "code",
   "execution_count": 2,
   "id": "273dc17c-fd0a-41c3-9295-5d166dd62d15",
   "metadata": {},
   "outputs": [],
   "source": [
    "def computeGCD(x, y): \n",
    "  \n",
    "   while(y): \n",
    "       x, y = y, x % y \n",
    "  \n",
    "   return x "
   ]
  },
  {
   "cell_type": "code",
   "execution_count": 3,
   "id": "29fabd50-e05b-474d-a638-992ad2a8372f",
   "metadata": {},
   "outputs": [],
   "source": [
    "p = 19807040628566084398385987581\n",
    "a_x = 324\n",
    "x = 11226815350263531814963336315\n",
    "a_y = 2345\n",
    "y = 9190548667900274300830391220\n",
    "a_z = 9513\n",
    "z = 4138652629655613570819000497"
   ]
  },
  {
   "cell_type": "code",
   "execution_count": null,
   "id": "8dbe2b7b-c13a-4a01-921e-9c04ad7c20cd",
   "metadata": {},
   "outputs": [],
   "source": []
  }
 ],
 "metadata": {
  "kernelspec": {
   "display_name": "Python 3 (ipykernel)",
   "language": "python",
   "name": "python3"
  },
  "language_info": {
   "codemirror_mode": {
    "name": "ipython",
    "version": 3
   },
   "file_extension": ".py",
   "mimetype": "text/x-python",
   "name": "python",
   "nbconvert_exporter": "python",
   "pygments_lexer": "ipython3",
   "version": "3.10.12"
  }
 },
 "nbformat": 4,
 "nbformat_minor": 5
}
